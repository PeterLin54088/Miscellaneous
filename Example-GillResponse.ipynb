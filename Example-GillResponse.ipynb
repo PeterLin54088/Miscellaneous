{
 "cells": [
  {
   "cell_type": "code",
   "execution_count": 1,
   "id": "62524b5f-1008-4f15-8166-61072765e309",
   "metadata": {},
   "outputs": [],
   "source": [
    "import numpy as np\n",
    "import matplotlib.pyplot as plt"
   ]
  },
  {
   "cell_type": "code",
   "execution_count": 2,
   "id": "37e29214-1648-420a-aa70-86e900f1d41c",
   "metadata": {},
   "outputs": [
    {
     "data": {
      "text/plain": [
       "\"\\nu_t - y*v = - phi_x - eps*u\\nu_t + y*u = - phi_y - eps*v\\nphi_t + u_x + v_y = - Q - eps*phi\\n\\nAssume variables' structure can seperate into x and y directions, and\\nin x directions, using complex Fourier series, for example\\nLet zonal wavenumber k\\nu = f(x)*g(y) = sum^{k=N/2}_{k=-N/2}(c_k*e^(ikx)) * g(y)\\n\\nthen following Gill (1980), rewrite eqs\\nu_t - (1/2)*y*v = - phi_x - eps*u\\nu_t + (1/2)*y*u = - phi_y - eps*v\\nphi_t + u_x + v_y = - Q - eps*phi\\n\\n\\ncombine above eqs, seperate variables, and given wavenumber k \\nv_yy + ((-0.25*y**2) + (i*k/(2*eps)) + (-eps**2) + (-k**2))*v = - Q_y + (i*k/(2*eps))*Q\\n(eps**2 + k**2)*u = (1/2)*eps*y*v + i*k*v_y + i*k*Q\\nby specify forcing term Q, the wind field can be derived\\n\""
      ]
     },
     "execution_count": 2,
     "metadata": {},
     "output_type": "execute_result"
    }
   ],
   "source": [
    "\"\"\"\n",
    "u_t - y*v = - phi_x - eps*u\n",
    "u_t + y*u = - phi_y - eps*v\n",
    "phi_t + u_x + v_y = - Q - eps*phi\n",
    "\n",
    "Assume variables' structure can seperate into x and y directions, and\n",
    "in x directions, using complex Fourier series, for example\n",
    "Let zonal wavenumber k\n",
    "u = f(x)*g(y) = sum^{k=N/2}_{k=-N/2}(c_k*e^(ikx)) * g(y)\n",
    "\n",
    "then following Gill (1980), rewrite eqs\n",
    "u_t - (1/2)*y*v = - phi_x - eps*u\n",
    "u_t + (1/2)*y*u = - phi_y - eps*v\n",
    "phi_t + u_x + v_y = - Q - eps*phi\n",
    "\n",
    "\n",
    "combine above eqs, seperate variables, and given wavenumber k \n",
    "v_yy + ((-0.25*y**2) + (i*k/(2*eps)) + (-eps**2) + (-k**2))*v = - Q_y + (i*k/(2*eps))*Q\n",
    "(eps**2 + k**2)*u = (1/2)*eps*y*v + i*k*v_y + i*k*Q\n",
    "by specify forcing term Q, the wind field can be derived\n",
    "\"\"\"\n"
   ]
  },
  {
   "cell_type": "code",
   "execution_count": 3,
   "id": "756a8631-91ad-4600-84d9-9c010e07f1cd",
   "metadata": {},
   "outputs": [
    {
     "name": "stdout",
     "output_type": "stream",
     "text": [
      "Grid points : 256\n",
      "Grid range : 32\n"
     ]
    }
   ],
   "source": [
    "np.random.seed(90625)\n",
    "N = 256\n",
    "L = 32\n",
    "\n",
    "print(f\"Grid points : {N}\")\n",
    "print(f\"Grid range : {L}\")\n",
    "x = np.linspace(-L/2,L/2,N)\n",
    "y = np.linspace(-L/2,L/2,N)\n",
    "xx, yy = np.meshgrid(x,y)\n",
    "\n",
    "dx = np.abs(x[1] - x[0])\n",
    "dy = np.abs(y[1] - y[0])\n",
    "\n",
    "eps = 1e-1"
   ]
  },
  {
   "cell_type": "code",
   "execution_count": 4,
   "id": "e7cc1c6f-2eab-4193-8726-3dd1e9d9a7b2",
   "metadata": {},
   "outputs": [
    {
     "data": {
      "text/plain": [
       "<matplotlib.contour.QuadContourSet at 0x7f37a48431d0>"
      ]
     },
     "execution_count": 4,
     "metadata": {},
     "output_type": "execute_result"
    },
    {
     "data": {
      "image/png": "[encoded data removed]",
      "text/plain": [
       "<Figure size 600x400 with 1 Axes>"
      ]
     },
     "metadata": {},
     "output_type": "display_data"
    }
   ],
   "source": [
    "Q_amp = 1\n",
    "Q_rad = 5\n",
    "Q_centre = [0, 0]\n",
    "Q = Q_amp * np.exp(-((Q_centre[0] - xx)/Q_rad)**2) * np.exp(-((Q_centre[1] - yy)/Q_rad)**2)\n",
    "plt.figure(figsize = (6,4), dpi = 100)\n",
    "plt.contourf(xx,yy,Q, levels = 32, cmap = \"Reds\")"
   ]
  },
  {
   "cell_type": "code",
   "execution_count": 5,
   "id": "53671a62-5c0b-4eb3-ae12-74261413a5e8",
   "metadata": {},
   "outputs": [],
   "source": [
    "diff_matrix_1st = (- np.roll(np.eye(N), 1, axis = 0) + np.roll(np.eye(N), -1, axis = 0))/2\n",
    "diff_matrix_1st[0, :] = 0\n",
    "diff_matrix_1st[0, 0] = -1\n",
    "diff_matrix_1st[0, 1] = 1\n",
    "diff_matrix_1st[-1, :] = 0\n",
    "diff_matrix_1st[-1, -2] = -1\n",
    "diff_matrix_1st[-1, -1] = 1\n",
    "diff_matrix_1st /= dy\n",
    "\n",
    "diff_matrix_2nd = diff_matrix_1st@diff_matrix_1st"
   ]
  },
  {
   "cell_type": "code",
   "execution_count": 6,
   "id": "e7a0af9f-ef50-49df-8ae5-1c983c18e815",
   "metadata": {},
   "outputs": [],
   "source": [
    "k = np.fft.fftfreq(N, d = (L/(2*np.pi))/N)\n",
    "#k = np.zeros_like(k)"
   ]
  },
  {
   "cell_type": "code",
   "execution_count": 7,
   "id": "8918bb11-fbd5-4758-b868-6a5c16fd9a25",
   "metadata": {},
   "outputs": [],
   "source": [
    "Q_sp = np.zeros_like(Q, dtype = np.complex128)\n",
    "Q_ret = np.zeros_like(Q, dtype = np.complex128)\n",
    "for i in range(np.shape(Q)[0]):\n",
    "    Q_sp[i,:] = np.fft.fft(Q[i,:])\n",
    "for i in range(np.shape(Q_sp)[0]):\n",
    "    Q_ret[i,:] = np.fft.ifft(Q_sp[i,:])\n",
    "plt.figure(figsize = (6,4), dpi = 100)\n",
    "plt.contourf(xx,yy,np.real(Q_ret), levels = 32, cmap = \"Reds\")\n",
    "#plt.savefig(\"TEST.png\")"
   ]
  },
  {
   "cell_type": "code",
   "execution_count": 8,
   "id": "c9f7f710-505d-4cec-a9b3-9fd1bbe473b0",
   "metadata": {},
   "outputs": [
    {
     "ename": "NameError",
     "evalue": "name 'Q_sp' is not defined",
     "output_type": "error",
     "traceback": [
      "\u001b[0;31m---------------------------------------------------------------------------\u001b[0m",
      "\u001b[0;31mNameError\u001b[0m                                 Traceback (most recent call last)",
      "Cell \u001b[0;32mIn[8], line 1\u001b[0m\n\u001b[0;32m----> 1\u001b[0m U_sp \u001b[38;5;241m=\u001b[39m np\u001b[38;5;241m.\u001b[39mzeros_like(Q_sp, dtype \u001b[38;5;241m=\u001b[39m np\u001b[38;5;241m.\u001b[39mcomplex128)\n\u001b[1;32m      2\u001b[0m V_sp \u001b[38;5;241m=\u001b[39m np\u001b[38;5;241m.\u001b[39mzeros_like(Q_sp, dtype \u001b[38;5;241m=\u001b[39m np\u001b[38;5;241m.\u001b[39mcomplex128)\n\u001b[1;32m      4\u001b[0m U \u001b[38;5;241m=\u001b[39m np\u001b[38;5;241m.\u001b[39mzeros_like(Q, dtype \u001b[38;5;241m=\u001b[39m np\u001b[38;5;241m.\u001b[39mcomplex128)\n",
      "\u001b[0;31mNameError\u001b[0m: name 'Q_sp' is not defined"
     ]
    }
   ],
   "source": [
    "U_sp = np.zeros_like(Q_sp, dtype = np.complex128)\n",
    "V_sp = np.zeros_like(Q_sp, dtype = np.complex128)\n",
    "\n",
    "U = np.zeros_like(Q, dtype = np.complex128)\n",
    "V = np.zeros_like(Q, dtype = np.complex128)\n",
    "\n",
    "for col in range(N):\n",
    "    A = diff_matrix_2nd + ((-0.25*np.diag(y**2)) + (np.eye(N)*1j*k[col]/(2*eps)) + (np.eye(N)*-eps**2) + (np.eye(N)*-k[col]**2))\n",
    "    B = (-diff_matrix_1st + np.diag(y)*1j*k[col]/(2*eps))@Q_sp[:,col]\n",
    "    V_sp[:,col] = np.linalg.inv(A)@B\n",
    "for col in range(N):\n",
    "    A = 0.5*eps*np.diag(y)\n",
    "    B = 1j*k[col]*diff_matrix_1st\n",
    "    C = 1j*k[col]*np.eye(N)\n",
    "    D = (k[col]**2+eps**2)*np.eye(N)\n",
    "    U_sp[:,col] = np.linalg.inv(D)@(A@(V_sp[:,col]) + B@(V_sp[:,col]) + C@(Q_sp[:,col]))\n",
    "for i in range(N):\n",
    "    U[i,:] = np.fft.ifft(U_sp[i,:])\n",
    "    V[i,:] = np.fft.ifft(V_sp[i,:])"
   ]
  },
  {
   "cell_type": "code",
   "execution_count": null,
   "id": "c365f081-511b-4e11-a721-ddbd9a9ee592",
   "metadata": {},
   "outputs": [],
   "source": [
    "plt.figure(figsize = (9,6), dpi = 250)\n",
    "plt.contourf(xx,yy,Q, levels = 128, cmap = \"Reds\")\n",
    "plt.quiver(xx[::8,::8],yy[::8,::8],np.real(U)[::8,::8],np.real(V)[::8,::8],scale = 35)\n",
    "plt.title(\"Following Kai-Chih Tseng 10yrs ago\")\n",
    "plt.xlabel(\"x coordinate\")\n",
    "plt.ylabel(\"y coordinate\")\n",
    "#plt.savefig(\"Gill response.png\")"
   ]
  },
  {
   "cell_type": "code",
   "execution_count": null,
   "id": "558d3e56-254f-4a68-8fa8-48b8b1707e08",
   "metadata": {},
   "outputs": [],
   "source": []
  }
 ],
 "metadata": {
  "kernelspec": {
   "display_name": "default_kernel",
   "language": "python",
   "name": "default_kernel"
  },
  "language_info": {
   "codemirror_mode": {
    "name": "ipython",
    "version": 3
   },
   "file_extension": ".py",
   "mimetype": "text/x-python",
   "name": "python",
   "nbconvert_exporter": "python",
   "pygments_lexer": "ipython3",
   "version": "3.11.5"
  }
 },
 "nbformat": 4,
 "nbformat_minor": 5
}
