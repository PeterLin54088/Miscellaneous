{
 "cells": [
  {
   "cell_type": "code",
   "execution_count": 13,
   "id": "d1bf9788-6104-4178-b569-fa16f820f800",
   "metadata": {
    "tags": []
   },
   "outputs": [],
   "source": [
    "import numpy as np\n",
    "import matplotlib.pyplot as plt"
   ]
  },
  {
   "cell_type": "code",
   "execution_count": 44,
   "id": "c35b143a-c6c2-42cc-88c8-2135109085c8",
   "metadata": {
    "tags": []
   },
   "outputs": [],
   "source": [
    "def C2S_point(coord):\n",
    "    x, y, z = coord[0], coord[1], coord[2]\n",
    "    r = np.sqrt(x**2+y**2+z**2)\n",
    "    phi = np.sign(y)*np.arccos(x/np.sqrt(x**2+y**2))*180/np.pi\n",
    "    theta = np.arccos(z/np.sqrt(x**2+y**2+z**2))*180/np.pi\n",
    "    return (r,phi,theta)\n",
    "def C2S_vector(vector):\n",
    "    r, phi, theta = vector[0], vector[1]*np.pi/180, vector[2]*np.pi/180\n",
    "    vector_r = np.array([np.sin(theta)*np.cos(phi), np.sin(theta)*np.sin(phi),np.cos(theta)])\n",
    "    vector_phi = np.array([np.cos(theta)*np.cos(phi), np.cos(theta)*np.sin(phi),-np.sin(theta)])\n",
    "    vector_theta = np.array([-np.sin(phi), np.cos(phi),0])\n",
    "    return np.array([vector_r, vector_phi,vector_theta])"
   ]
  },
  {
   "cell_type": "code",
   "execution_count": 45,
   "id": "12f06ec5-eb44-4541-8708-39da3b6bd661",
   "metadata": {
    "tags": []
   },
   "outputs": [
    {
     "name": "stdout",
     "output_type": "stream",
     "text": [
      "(1.0, 45.0, 45.0)\n",
      "[[ 0.5         0.5         0.70710678]\n",
      " [ 0.5         0.5        -0.70710678]\n",
      " [-0.70710678  0.70710678  0.        ]]\n"
     ]
    }
   ],
   "source": [
    "point_c = np.array([1,1,np.sqrt(2)])/2\n",
    "point_s = C2S_point(point_c)\n",
    "print(point_s)\n",
    "vector_c = np.array([[1,0,0],\n",
    "                     [0,1,0],\n",
    "                     [0,0,1]])\n",
    "vector_s = C2S_vector(point_s)\n",
    "print(vector_s)"
   ]
  },
  {
   "cell_type": "code",
   "execution_count": 48,
   "id": "9b081049-2fac-4f0d-8f92-a0b377df9c8e",
   "metadata": {
    "tags": []
   },
   "outputs": [
    {
     "data": {
      "text/plain": [
       "0.0"
      ]
     },
     "execution_count": 48,
     "metadata": {},
     "output_type": "execute_result"
    }
   ],
   "source": []
  },
  {
   "cell_type": "code",
   "execution_count": null,
   "id": "129db7b9-50e3-4cab-b505-87c23441df57",
   "metadata": {},
   "outputs": [],
   "source": []
  }
 ],
 "metadata": {
  "kernelspec": {
   "display_name": "default_kernel",
   "language": "python",
   "name": "default_kernel"
  },
  "language_info": {
   "codemirror_mode": {
    "name": "ipython",
    "version": 3
   },
   "file_extension": ".py",
   "mimetype": "text/x-python",
   "name": "python",
   "nbconvert_exporter": "python",
   "pygments_lexer": "ipython3",
   "version": "3.11.5"
  }
 },
 "nbformat": 4,
 "nbformat_minor": 5
}
