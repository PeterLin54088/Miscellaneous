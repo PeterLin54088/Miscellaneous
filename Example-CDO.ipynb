{
 "cells": [
  {
   "cell_type": "markdown",
   "id": "33d37254-eda7-43f9-a28b-3b9ff44e6486",
   "metadata": {
    "tags": []
   },
   "source": [
    "# Packages"
   ]
  },
  {
   "cell_type": "code",
   "execution_count": 1,
   "id": "5e0f439f-e35e-405f-899b-8af083bfb6ed",
   "metadata": {
    "tags": []
   },
   "outputs": [],
   "source": [
    "import os\n",
    "import numpy as np\n",
    "from cdo import Cdo, CDOException\n",
    "import netCDF4 as nc"
   ]
  },
  {
   "cell_type": "markdown",
   "id": "e9d246b2-cd30-41e8-9102-5f4b6b653420",
   "metadata": {
    "jp-MarkdownHeadingCollapsed": true,
    "tags": []
   },
   "source": [
    "# Functions"
   ]
  },
  {
   "cell_type": "code",
   "execution_count": 3,
   "id": "1a262cb5-5345-44e3-afd0-506a5f7404dc",
   "metadata": {},
   "outputs": [],
   "source": [
    "def ERA5_reader(varname = \"u\", \n",
    "                levels = [1000], \n",
    "                years = [1987],\n",
    "                extension = \".nc\"):\n",
    "    fpath_all = []\n",
    "    datapath = \"/work/DATA/Reanalysis/ERA5\"\n",
    "    for level in levels:\n",
    "        for year in years:\n",
    "            fname = \"{varname}{level}_{year}{extension}\".format(varname=varname,\n",
    "                                                                level=level,\n",
    "                                                                year=year,\n",
    "                                                                extension=extension)\n",
    "            fpath = os.path.join(datapath,varname,fname)\n",
    "            fpath_all.append(fpath)\n",
    "    return fpath_all"
   ]
  },
  {
   "cell_type": "markdown",
   "id": "2c116a0e-5374-4ab5-92f8-a7c0e900839f",
   "metadata": {},
   "source": [
    "# Cdo Init"
   ]
  },
  {
   "cell_type": "code",
   "execution_count": 2,
   "id": "02dc502a-0d98-4797-ae8d-a0876e751489",
   "metadata": {
    "tags": []
   },
   "outputs": [],
   "source": [
    "os.chdir(\"/home/b08209033/Others\")\n",
    "cdo = Cdo()"
   ]
  },
  {
   "cell_type": "markdown",
   "id": "caaaa7f2-bcc7-4003-b5cb-a19a8fbcc1c9",
   "metadata": {},
   "source": [
    "# Shifttime"
   ]
  },
  {
   "cell_type": "code",
   "execution_count": 18,
   "id": "fa4c99e6-7dc5-4b16-aef5-47d20d598cc5",
   "metadata": {
    "tags": []
   },
   "outputs": [
    {
     "data": {
      "text/plain": [
       "'/home/b08209033/IndianMonsoon/test_shifttime.nc'"
      ]
     },
     "execution_count": 18,
     "metadata": {},
     "output_type": "execute_result"
    }
   ],
   "source": [
    "cdo.settaxis(\"2005-01-01,11:30:00,1day\",\n",
    "             input=\"/work/DATA/Reanalysis/ERA5/slp/slp_2005.nc\",\n",
    "             output=\"/home/b08209033/IndianMonsoon/test_shifttime.nc\")"
   ]
  },
  {
   "cell_type": "markdown",
   "id": "2ae65ae0-aa51-4566-9c8f-780d56f58575",
   "metadata": {},
   "source": [
    "# Merge time"
   ]
  },
  {
   "cell_type": "code",
   "execution_count": 3,
   "id": "8a35217d-e56b-44d7-80db-75c6f7a5d2d6",
   "metadata": {
    "tags": []
   },
   "outputs": [
    {
     "data": {
      "text/plain": [
       "'/home/b08209033/CDO/test_mergetime.nc'"
      ]
     },
     "execution_count": 3,
     "metadata": {},
     "output_type": "execute_result"
    }
   ],
   "source": [
    "cdo.mergetime(input=\"/work/DATA/Reanalysis/ERA5/u/u850_*.nc\",\n",
    "              output=\"/home/b08209033/CDO/test_mergetime.nc\")"
   ]
  },
  {
   "cell_type": "markdown",
   "id": "c2851775-3ed9-4d48-9264-b6f5983fb067",
   "metadata": {},
   "source": [
    "# Set z-axis"
   ]
  },
  {
   "cell_type": "code",
   "execution_count": 4,
   "id": "5b2b2bde-1895-4435-a22c-10a37c217914",
   "metadata": {
    "tags": []
   },
   "outputs": [],
   "source": [
    "with open(\"levels.txt\", \"w+\") as f:\n",
    "    f.write(\"zaxistype = pressure\\n\")\n",
    "    f.write(\"size = 1\\n\")\n",
    "    f.write(\"levels = 85000\\n\")"
   ]
  },
  {
   "cell_type": "code",
   "execution_count": 6,
   "id": "9d68e4ef-d9e0-44cc-80e8-5032e25081df",
   "metadata": {
    "tags": []
   },
   "outputs": [
    {
     "data": {
      "text/plain": [
       "'/home/b08209033/CDO/remove_leap.nc'"
      ]
     },
     "execution_count": 6,
     "metadata": {},
     "output_type": "execute_result"
    }
   ],
   "source": [
    "cdo.del29feb(input=\"/home/b08209033/CDO/test_mergetime.nc\",\n",
    "             output=\"/home/b08209033/CDO/remove_leap.nc\")"
   ]
  },
  {
   "cell_type": "code",
   "execution_count": 5,
   "id": "2dfb4aa9-bc2c-42dd-bc36-b21eb8cc84b0",
   "metadata": {
    "tags": []
   },
   "outputs": [
    {
     "data": {
      "text/plain": [
       "'/home/b08209033/CDO/test_setzaxis.nc'"
      ]
     },
     "execution_count": 5,
     "metadata": {},
     "output_type": "execute_result"
    }
   ],
   "source": [
    "cdo.setzaxis(\"levels.txt\", \n",
    "             input=\"/work/DATA/Reanalysis/ERA5/u/u1000_1979.nc\",\n",
    "             output=\"/home/b08209033/CDO/test_setzaxis.nc\")"
   ]
  },
  {
   "cell_type": "code",
   "execution_count": 6,
   "id": "125d31ea-9b76-4652-bfcb-9079b9e1a4e9",
   "metadata": {
    "tags": []
   },
   "outputs": [
    {
     "data": {
      "text/plain": [
       "masked_array(data=[85000.],\n",
       "             mask=False,\n",
       "       fill_value=1e+20)"
      ]
     },
     "execution_count": 6,
     "metadata": {},
     "output_type": "execute_result"
    }
   ],
   "source": [
    "dataset = nc.Dataset(\"/home/b08209033/CDO/test_setzaxis.nc\")\n",
    "dataset[\"plev\"][:]"
   ]
  },
  {
   "cell_type": "markdown",
   "id": "2c1cdc53-89de-44fe-892d-1ac735f257c7",
   "metadata": {},
   "source": [
    "# Merge z-axis"
   ]
  },
  {
   "cell_type": "code",
   "execution_count": null,
   "id": "5400fa8a-e9bf-48eb-850b-060902b20527",
   "metadata": {},
   "outputs": [],
   "source": [
    "cdo.merge(input=\"?\",\n",
    "          output=\"/home/b08209033/CDO/test_mergetime.nc\")"
   ]
  }
 ],
 "metadata": {
  "kernelspec": {
   "display_name": "CDO",
   "language": "python",
   "name": "cdo_operation"
  },
  "language_info": {
   "codemirror_mode": {
    "name": "ipython",
    "version": 3
   },
   "file_extension": ".py",
   "mimetype": "text/x-python",
   "name": "python",
   "nbconvert_exporter": "python",
   "pygments_lexer": "ipython3",
   "version": "3.12.3"
  }
 },
 "nbformat": 4,
 "nbformat_minor": 5
}
